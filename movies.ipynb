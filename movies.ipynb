{
 "cells": [
  {
   "cell_type": "code",
   "execution_count": 20,
   "metadata": {},
   "outputs": [],
   "source": [
    "import pandas as pd\n",
    "import numpy as np\n",
    "from sklearn.manifold import TSNE\n",
    "import matplotlib.pyplot as plt\n",
    "from nomic import embed\n",
    "import plotly.express as px\n",
    "from ast import literal_eval"
   ]
  },
  {
   "cell_type": "markdown",
   "metadata": {},
   "source": [
    "### Calculate embeddings of movie storylines"
   ]
  },
  {
   "cell_type": "code",
   "execution_count": 8,
   "metadata": {},
   "outputs": [],
   "source": [
    "# Dataset: IMDB Top 250 Movies\n",
    "# (https://www.kaggle.com/datasets/karkavelrajaj/imdb-top-250-movies)\n",
    "df = pd.read_csv('data/movies.csv')"
   ]
  },
  {
   "cell_type": "code",
   "execution_count": 9,
   "metadata": {},
   "outputs": [],
   "source": [
    "embed_res = embed.text(\n",
    "    texts=df['storyline'].to_list(),\n",
    "    model='nomic-embed-text-v1.5',\n",
    "    inference_mode='local'\n",
    ")\n",
    "embeddings = embed_res['embeddings']\n",
    "\n",
    "df['embedding'] = embeddings\n",
    "df.to_csv('data/movies_embeddings.csv', index=False)"
   ]
  },
  {
   "cell_type": "markdown",
   "metadata": {},
   "source": [
    "### Reduce dimensionality to 3D using t-SNE and plot embeddings"
   ]
  },
  {
   "cell_type": "code",
   "execution_count": 18,
   "metadata": {},
   "outputs": [],
   "source": [
    "df = pd.read_csv('data/movies_embeddings.csv')\n",
    "embeddings = np.array(df['embedding'].apply(literal_eval).tolist())\n",
    "\n",
    "tsne = TSNE(n_components=2, random_state=42)\n",
    "embeddings_2d = tsne.fit_transform(embeddings)"
   ]
  },
  {
   "cell_type": "code",
   "execution_count": 19,
   "metadata": {},
   "outputs": [
    {
     "data": {
      "application/vnd.plotly.v1+json": {
       "config": {
        "plotlyServerURL": "https://plot.ly"
       },
       "data": [
        {
         "customdata": [
          [
           "The Shawshank Redemption",
           1
          ],
          [
           "The Godfather",
           2
          ],
          [
           "The Dark Knight",
           3
          ],
          [
           "The Godfather Part II",
           4
          ],
          [
           "12 Angry Men",
           5
          ],
          [
           "Schindler's List",
           6
          ],
          [
           "The Lord of the Rings: The Return of the King",
           7
          ],
          [
           "Pulp Fiction",
           8
          ],
          [
           "The Lord of the Rings: The Fellowship of the Ring",
           9
          ],
          [
           "The Good, the Bad and the Ugly",
           10
          ],
          [
           "Forrest Gump",
           11
          ],
          [
           "Fight Club",
           12
          ],
          [
           "The Lord of the Rings: The Two Towers",
           13
          ],
          [
           "Inception",
           14
          ],
          [
           "Star Wars: Episode V - The Empire Strikes Back",
           15
          ],
          [
           "The Matrix",
           16
          ],
          [
           "Goodfellas",
           17
          ],
          [
           "One Flew Over the Cuckoo's Nest",
           18
          ],
          [
           "Se7en",
           19
          ],
          [
           "Seven Samurai",
           20
          ],
          [
           "It's a Wonderful Life",
           21
          ],
          [
           "The Silence of the Lambs",
           22
          ],
          [
           "Saving Private Ryan",
           23
          ],
          [
           "City of God",
           24
          ],
          [
           "Interstellar",
           25
          ],
          [
           "Life Is Beautiful",
           26
          ],
          [
           "The Green Mile",
           27
          ],
          [
           "Star Wars",
           28
          ],
          [
           "Terminator 2: Judgment Day",
           29
          ],
          [
           "Back to the Future",
           30
          ],
          [
           "Spirited Away",
           31
          ],
          [
           "The Pianist",
           32
          ],
          [
           "Psycho",
           33
          ],
          [
           "Parasite",
           34
          ],
          [
           "Léon: The Professional",
           35
          ],
          [
           "The Lion King",
           36
          ],
          [
           "Gladiator",
           37
          ],
          [
           "American History X",
           38
          ],
          [
           "The Departed",
           39
          ],
          [
           "The Usual Suspects",
           40
          ],
          [
           "The Prestige",
           41
          ],
          [
           "Whiplash",
           42
          ],
          [
           "Casablanca",
           43
          ],
          [
           "Grave of the Fireflies",
           44
          ],
          [
           "Harakiri",
           45
          ],
          [
           "The Intouchables",
           46
          ],
          [
           "Modern Times",
           47
          ],
          [
           "Once Upon a Time in the West",
           48
          ],
          [
           "Cinema Paradiso",
           49
          ],
          [
           "Rear Window",
           50
          ],
          [
           "Alien",
           51
          ],
          [
           "City Lights",
           52
          ],
          [
           "Apocalypse Now",
           53
          ],
          [
           "Memento",
           54
          ],
          [
           "Django Unchained",
           55
          ],
          [
           "Raiders of the Lost Ark",
           56
          ],
          [
           "WALL·E",
           57
          ],
          [
           "The Lives of Others",
           58
          ],
          [
           "Sunset Blvd.",
           59
          ],
          [
           "Paths of Glory",
           60
          ],
          [
           "The Shining",
           61
          ],
          [
           "The Great Dictator",
           62
          ],
          [
           "Avengers: Infinity War",
           63
          ],
          [
           "Witness for the Prosecution",
           64
          ],
          [
           "Aliens",
           65
          ],
          [
           "Spider-Man: Into the Spider-Verse",
           66
          ],
          [
           "American Beauty",
           67
          ],
          [
           "Dr. Strangelove or: How I Learned to Stop Worrying and Love the Bomb",
           68
          ],
          [
           "The Dark Knight Rises",
           69
          ],
          [
           "Oldboy",
           70
          ],
          [
           "Inglourious Basterds",
           71
          ],
          [
           "Amadeus",
           72
          ],
          [
           "Coco",
           73
          ],
          [
           "Toy Story",
           74
          ],
          [
           "Joker",
           75
          ],
          [
           "Braveheart",
           76
          ],
          [
           "The Boat",
           77
          ],
          [
           "Avengers: Endgame",
           78
          ],
          [
           "Princess Mononoke",
           79
          ],
          [
           "Once Upon a Time in America",
           80
          ],
          [
           "Good Will Hunting",
           81
          ],
          [
           "Your Name.",
           82
          ],
          [
           "Singin' in the Rain",
           83
          ],
          [
           "3 Idiots",
           84
          ],
          [
           "Requiem for a Dream",
           85
          ],
          [
           "High and Low",
           86
          ],
          [
           "Toy Story 3",
           87
          ],
          [
           "Capernaum",
           88
          ],
          [
           "Star Wars: Episode VI - Return of the Jedi",
           89
          ],
          [
           "2001: A Space Odyssey",
           90
          ],
          [
           "Eternal Sunshine of the Spotless Mind",
           91
          ],
          [
           "Reservoir Dogs",
           92
          ],
          [
           "Come and See",
           93
          ],
          [
           "The Hunt",
           94
          ],
          [
           "Citizen Kane",
           95
          ],
          [
           "M",
           96
          ],
          [
           "Lawrence of Arabia",
           97
          ],
          [
           "North by Northwest",
           98
          ],
          [
           "Ikiru",
           99
          ],
          [
           "Vertigo",
           100
          ],
          [
           "The Apartment",
           101
          ],
          [
           "Amélie",
           102
          ],
          [
           "A Clockwork Orange",
           103
          ],
          [
           "Double Indemnity",
           104
          ],
          [
           "Full Metal Jacket",
           105
          ],
          [
           "Scarface",
           106
          ],
          [
           "Hamilton",
           107
          ],
          [
           "Incendies",
           108
          ],
          [
           "Heat",
           109
          ],
          [
           "To Kill a Mockingbird",
           110
          ],
          [
           "The Sting",
           111
          ],
          [
           "Up",
           112
          ],
          [
           "Top Gun: Maverick",
           113
          ],
          [
           "A Separation",
           114
          ],
          [
           "Metropolis",
           115
          ],
          [
           "Taxi Driver",
           116
          ],
          [
           "L.A. Confidential",
           117
          ],
          [
           "Die Hard",
           118
          ],
          [
           "Snatch",
           119
          ],
          [
           "Indiana Jones and the Last Crusade",
           120
          ],
          [
           "Bicycle Thieves",
           121
          ],
          [
           "Like Stars on Earth",
           122
          ],
          [
           "1917",
           123
          ],
          [
           "Downfall",
           124
          ],
          [
           "Dangal",
           125
          ],
          [
           "For a Few Dollars More",
           126
          ],
          [
           "Batman Begins",
           127
          ],
          [
           "The Kid",
           128
          ],
          [
           "Some Like It Hot",
           129
          ],
          [
           "The Father",
           130
          ],
          [
           "All About Eve",
           131
          ],
          [
           "The Wolf of Wall Street",
           132
          ],
          [
           "Green Book",
           133
          ],
          [
           "Judgment at Nuremberg",
           134
          ],
          [
           "Ran",
           135
          ],
          [
           "Casino",
           136
          ],
          [
           "The Truman Show",
           137
          ],
          [
           "Pan's Labyrinth",
           138
          ],
          [
           "There Will Be Blood",
           139
          ],
          [
           "Unforgiven",
           140
          ],
          [
           "The Sixth Sense",
           141
          ],
          [
           "Shutter Island",
           142
          ],
          [
           "A Beautiful Mind",
           143
          ],
          [
           "Jurassic Park",
           144
          ],
          [
           "Yojimbo",
           145
          ],
          [
           "The Treasure of the Sierra Madre",
           146
          ],
          [
           "Monty Python and the Holy Grail",
           147
          ],
          [
           "The Great Escape",
           148
          ],
          [
           "No Country for Old Men",
           149
          ],
          [
           "Kill Bill: Vol. 1",
           150
          ],
          [
           "Rashomon",
           151
          ],
          [
           "Spider-Man: No Way Home",
           152
          ],
          [
           "The Thing",
           153
          ],
          [
           "Finding Nemo",
           154
          ],
          [
           "The Elephant Man",
           155
          ],
          [
           "Chinatown",
           156
          ],
          [
           "Raging Bull",
           157
          ],
          [
           "V for Vendetta",
           158
          ],
          [
           "Gone with the Wind",
           159
          ],
          [
           "Lock, Stock and Two Smoking Barrels",
           160
          ],
          [
           "Inside Out",
           161
          ],
          [
           "Dial M for Murder",
           162
          ],
          [
           "The Secret in Their Eyes",
           163
          ],
          [
           "Howl's Moving Castle",
           164
          ],
          [
           "Three Billboards Outside Ebbing, Missouri",
           165
          ],
          [
           "The Bridge on the River Kwai",
           166
          ],
          [
           "Trainspotting",
           167
          ],
          [
           "Prisoners",
           168
          ],
          [
           "Warrior",
           169
          ],
          [
           "Fargo",
           170
          ],
          [
           "Gran Torino",
           171
          ],
          [
           "My Neighbor Totoro",
           172
          ],
          [
           "Catch Me If You Can",
           173
          ],
          [
           "Million Dollar Baby",
           174
          ],
          [
           "Children of Heaven",
           175
          ],
          [
           "Blade Runner",
           176
          ],
          [
           "The Gold Rush",
           177
          ],
          [
           "Klaus",
           178
          ],
          [
           "Before Sunrise",
           179
          ],
          [
           "Harry Potter and the Deathly Hallows: Part 2",
           180
          ],
          [
           "12 Years a Slave",
           181
          ],
          [
           "On the Waterfront",
           182
          ],
          [
           "Ben-Hur",
           183
          ],
          [
           "The Grand Budapest Hotel",
           184
          ],
          [
           "Gone Girl",
           185
          ],
          [
           "Wild Strawberries",
           186
          ],
          [
           "The General",
           187
          ],
          [
           "In the Name of the Father",
           188
          ],
          [
           "The Third Man",
           189
          ],
          [
           "Barry Lyndon",
           190
          ],
          [
           "The Deer Hunter",
           191
          ],
          [
           "Hacksaw Ridge",
           192
          ],
          [
           "The Wages of Fear",
           193
          ],
          [
           "Memories of Murder",
           194
          ],
          [
           "Sherlock Jr.",
           195
          ],
          [
           "Wild Tales",
           196
          ],
          [
           "Mr. Smith Goes to Washington",
           197
          ],
          [
           "Mad Max: Fury Road",
           198
          ],
          [
           "Mary and Max",
           199
          ],
          [
           "The Seventh Seal",
           200
          ],
          [
           "How to Train Your Dragon",
           201
          ],
          [
           "Monsters, Inc.",
           202
          ],
          [
           "Room",
           203
          ],
          [
           "Jaws",
           204
          ],
          [
           "Dead Poets Society",
           205
          ],
          [
           "The Big Lebowski",
           206
          ],
          [
           "Tokyo Story",
           207
          ],
          [
           "The Passion of Joan of Arc",
           208
          ],
          [
           "Ford v Ferrari",
           209
          ],
          [
           "Hotel Rwanda",
           210
          ],
          [
           "Rocky",
           211
          ],
          [
           "Platoon",
           212
          ],
          [
           "Ratatouille",
           213
          ],
          [
           "Spotlight",
           214
          ],
          [
           "The Terminator",
           215
          ],
          [
           "Logan",
           216
          ],
          [
           "Stand by Me",
           217
          ],
          [
           "Rush",
           218
          ],
          [
           "Network",
           219
          ],
          [
           "Before Sunset",
           220
          ],
          [
           "Into the Wild",
           221
          ],
          [
           "The Wizard of Oz",
           222
          ],
          [
           "The Best Years of Our Lives",
           223
          ],
          [
           "Pather Panchali",
           224
          ],
          [
           "Groundhog Day",
           225
          ],
          [
           "The Exorcist",
           226
          ],
          [
           "To Be or Not to Be",
           227
          ],
          [
           "The Incredibles",
           228
          ],
          [
           "La haine",
           229
          ],
          [
           "Pirates of the Caribbean: The Curse of the Black Pearl",
           230
          ],
          [
           "The Battle of Algiers",
           231
          ],
          [
           "Hachi: A Dog's Tale",
           232
          ],
          [
           "The Grapes of Wrath",
           233
          ],
          [
           "Jai Bhim",
           234
          ],
          [
           "My Father and My Son",
           235
          ],
          [
           "Amores Perros",
           236
          ],
          [
           "Rebecca",
           237
          ],
          [
           "Cool Hand Luke",
           238
          ],
          [
           "The Handmaiden",
           239
          ],
          [
           "The 400 Blows",
           240
          ],
          [
           "The Sound of Music",
           241
          ],
          [
           "It Happened One Night",
           242
          ],
          [
           "Persona",
           243
          ],
          [
           "Life of Brian",
           244
          ],
          [
           "The Iron Giant",
           245
          ],
          [
           "Dersu Uzala",
           246
          ],
          [
           "The Help",
           247
          ],
          [
           "Aladdin",
           248
          ],
          [
           "Gandhi",
           249
          ],
          [
           "Dances with Wolves",
           250
          ]
         ],
         "hovertemplate": "x=%{x}<br>y=%{y}<br>title=%{customdata[0]}<br>rank=%{customdata[1]}<extra></extra>",
         "legendgroup": "",
         "marker": {
          "color": "#636efa",
          "symbol": "circle"
         },
         "mode": "markers+text",
         "name": "",
         "orientation": "v",
         "showlegend": false,
         "text": [
          "The Shawshank Redemption",
          "The Godfather",
          "The Dark Knight",
          "The Godfather Part II",
          "12 Angry Men",
          "Schindler's List",
          "The Lord of the Rings: The Return of the King",
          "Pulp Fiction",
          "The Lord of the Rings: The Fellowship of the Ring",
          "The Good, the Bad and the Ugly",
          "Forrest Gump",
          "Fight Club",
          "The Lord of the Rings: The Two Towers",
          "Inception",
          "Star Wars: Episode V - The Empire Strikes Back",
          "The Matrix",
          "Goodfellas",
          "One Flew Over the Cuckoo's Nest",
          "Se7en",
          "Seven Samurai",
          "It's a Wonderful Life",
          "The Silence of the Lambs",
          "Saving Private Ryan",
          "City of God",
          "Interstellar",
          "Life Is Beautiful",
          "The Green Mile",
          "Star Wars",
          "Terminator 2: Judgment Day",
          "Back to the Future",
          "Spirited Away",
          "The Pianist",
          "Psycho",
          "Parasite",
          "Léon: The Professional",
          "The Lion King",
          "Gladiator",
          "American History X",
          "The Departed",
          "The Usual Suspects",
          "The Prestige",
          "Whiplash",
          "Casablanca",
          "Grave of the Fireflies",
          "Harakiri",
          "The Intouchables",
          "Modern Times",
          "Once Upon a Time in the West",
          "Cinema Paradiso",
          "Rear Window",
          "Alien",
          "City Lights",
          "Apocalypse Now",
          "Memento",
          "Django Unchained",
          "Raiders of the Lost Ark",
          "WALL·E",
          "The Lives of Others",
          "Sunset Blvd.",
          "Paths of Glory",
          "The Shining",
          "The Great Dictator",
          "Avengers: Infinity War",
          "Witness for the Prosecution",
          "Aliens",
          "Spider-Man: Into the Spider-Verse",
          "American Beauty",
          "Dr. Strangelove or: How I Learned to Stop Worrying and Love the Bomb",
          "The Dark Knight Rises",
          "Oldboy",
          "Inglourious Basterds",
          "Amadeus",
          "Coco",
          "Toy Story",
          "Joker",
          "Braveheart",
          "The Boat",
          "Avengers: Endgame",
          "Princess Mononoke",
          "Once Upon a Time in America",
          "Good Will Hunting",
          "Your Name.",
          "Singin' in the Rain",
          "3 Idiots",
          "Requiem for a Dream",
          "High and Low",
          "Toy Story 3",
          "Capernaum",
          "Star Wars: Episode VI - Return of the Jedi",
          "2001: A Space Odyssey",
          "Eternal Sunshine of the Spotless Mind",
          "Reservoir Dogs",
          "Come and See",
          "The Hunt",
          "Citizen Kane",
          "M",
          "Lawrence of Arabia",
          "North by Northwest",
          "Ikiru",
          "Vertigo",
          "The Apartment",
          "Amélie",
          "A Clockwork Orange",
          "Double Indemnity",
          "Full Metal Jacket",
          "Scarface",
          "Hamilton",
          "Incendies",
          "Heat",
          "To Kill a Mockingbird",
          "The Sting",
          "Up",
          "Top Gun: Maverick",
          "A Separation",
          "Metropolis",
          "Taxi Driver",
          "L.A. Confidential",
          "Die Hard",
          "Snatch",
          "Indiana Jones and the Last Crusade",
          "Bicycle Thieves",
          "Like Stars on Earth",
          "1917",
          "Downfall",
          "Dangal",
          "For a Few Dollars More",
          "Batman Begins",
          "The Kid",
          "Some Like It Hot",
          "The Father",
          "All About Eve",
          "The Wolf of Wall Street",
          "Green Book",
          "Judgment at Nuremberg",
          "Ran",
          "Casino",
          "The Truman Show",
          "Pan's Labyrinth",
          "There Will Be Blood",
          "Unforgiven",
          "The Sixth Sense",
          "Shutter Island",
          "A Beautiful Mind",
          "Jurassic Park",
          "Yojimbo",
          "The Treasure of the Sierra Madre",
          "Monty Python and the Holy Grail",
          "The Great Escape",
          "No Country for Old Men",
          "Kill Bill: Vol. 1",
          "Rashomon",
          "Spider-Man: No Way Home",
          "The Thing",
          "Finding Nemo",
          "The Elephant Man",
          "Chinatown",
          "Raging Bull",
          "V for Vendetta",
          "Gone with the Wind",
          "Lock, Stock and Two Smoking Barrels",
          "Inside Out",
          "Dial M for Murder",
          "The Secret in Their Eyes",
          "Howl's Moving Castle",
          "Three Billboards Outside Ebbing, Missouri",
          "The Bridge on the River Kwai",
          "Trainspotting",
          "Prisoners",
          "Warrior",
          "Fargo",
          "Gran Torino",
          "My Neighbor Totoro",
          "Catch Me If You Can",
          "Million Dollar Baby",
          "Children of Heaven",
          "Blade Runner",
          "The Gold Rush",
          "Klaus",
          "Before Sunrise",
          "Harry Potter and the Deathly Hallows: Part 2",
          "12 Years a Slave",
          "On the Waterfront",
          "Ben-Hur",
          "The Grand Budapest Hotel",
          "Gone Girl",
          "Wild Strawberries",
          "The General",
          "In the Name of the Father",
          "The Third Man",
          "Barry Lyndon",
          "The Deer Hunter",
          "Hacksaw Ridge",
          "The Wages of Fear",
          "Memories of Murder",
          "Sherlock Jr.",
          "Wild Tales",
          "Mr. Smith Goes to Washington",
          "Mad Max: Fury Road",
          "Mary and Max",
          "The Seventh Seal",
          "How to Train Your Dragon",
          "Monsters, Inc.",
          "Room",
          "Jaws",
          "Dead Poets Society",
          "The Big Lebowski",
          "Tokyo Story",
          "The Passion of Joan of Arc",
          "Ford v Ferrari",
          "Hotel Rwanda",
          "Rocky",
          "Platoon",
          "Ratatouille",
          "Spotlight",
          "The Terminator",
          "Logan",
          "Stand by Me",
          "Rush",
          "Network",
          "Before Sunset",
          "Into the Wild",
          "The Wizard of Oz",
          "The Best Years of Our Lives",
          "Pather Panchali",
          "Groundhog Day",
          "The Exorcist",
          "To Be or Not to Be",
          "The Incredibles",
          "La haine",
          "Pirates of the Caribbean: The Curse of the Black Pearl",
          "The Battle of Algiers",
          "Hachi: A Dog's Tale",
          "The Grapes of Wrath",
          "Jai Bhim",
          "My Father and My Son",
          "Amores Perros",
          "Rebecca",
          "Cool Hand Luke",
          "The Handmaiden",
          "The 400 Blows",
          "The Sound of Music",
          "It Happened One Night",
          "Persona",
          "Life of Brian",
          "The Iron Giant",
          "Dersu Uzala",
          "The Help",
          "Aladdin",
          "Gandhi",
          "Dances with Wolves"
         ],
         "type": "scatter",
         "x": [
          11.17508602142334,
          -3.2405121326446533,
          8.140762329101562,
          -3.278463840484619,
          5.502734661102295,
          -5.269720077514648,
          -9.68667984008789,
          -2.57835054397583,
          -9.243514060974121,
          -4.011165142059326,
          -8.561563491821289,
          -0.638204038143158,
          -9.991448402404785,
          3.1512563228607178,
          -14.14999771118164,
          2.966470241546631,
          -2.8951408863067627,
          -4.60221529006958,
          3.1284916400909424,
          -10.123210906982422,
          13.419403076171875,
          1.8253066539764404,
          -2.259990692138672,
          0.3854261040687561,
          12.536948204040527,
          -3.1770431995391846,
          -1.3584970235824585,
          -14.040433883666992,
          -9.967530250549316,
          -12.770660400390625,
          11.563555717468262,
          -4.901556968688965,
          2.835073709487915,
          -2.792081832885742,
          -10.844761848449707,
          -6.22929048538208,
          -5.116272926330566,
          -2.5197830200195312,
          3.459834337234497,
          -7.4161481857299805,
          4.2196455001831055,
          1.4997587203979492,
          -1.7245664596557617,
          2.360534429550171,
          -9.780653953552246,
          -9.947787284851074,
          7.299088001251221,
          -5.8116607666015625,
          4.317343235015869,
          1.2702654600143433,
          12.524535179138184,
          6.4730000495910645,
          -1.0939661264419556,
          7.329298496246338,
          -5.075045585632324,
          -8.849570274353027,
          14.223664283752441,
          -6.554233074188232,
          5.2206034660339355,
          -0.8348516225814819,
          9.474777221679688,
          -6.3649797439575195,
          -13.034406661987305,
          4.600645542144775,
          10.243819236755371,
          12.502825736999512,
          8.006794929504395,
          -2.9861574172973633,
          8.062728881835938,
          -0.8023955225944519,
          -4.094864368438721,
          -12.794671058654785,
          -8.192598342895508,
          16.129241943359375,
          -15.865321159362793,
          -11.932291984558105,
          2.2929584980010986,
          -13.098289489746094,
          -11.921223640441895,
          -3.3138434886932373,
          -13.835290908813477,
          11.515225410461426,
          4.944199562072754,
          10.078398704528809,
          13.950376510620117,
          1.289665699005127,
          2.4271621704101562,
          0.3412657678127289,
          -13.842310905456543,
          12.848073959350586,
          6.595054626464844,
          4.35038423538208,
          1.8484402894973755,
          8.541849136352539,
          -11.883557319641113,
          6.444402694702148,
          -12.076519012451172,
          0.8536603450775146,
          7.9792094230651855,
          2.071518898010254,
          0.969298779964447,
          7.325581073760986,
          -0.24396872520446777,
          1.9407243728637695,
          0.20995400846004486,
          -4.9103899002075195,
          -14.31277847290039,
          11.00329303741455,
          4.125529766082764,
          -5.57228946685791,
          -5.304772853851318,
          -13.04176139831543,
          -14.502206802368164,
          10.31960391998291,
          1.891898512840271,
          -0.6553418040275574,
          2.7717344760894775,
          -7.577682971954346,
          -2.165006637573242,
          -8.830410957336426,
          1.120749592781067,
          1.0847629308700562,
          -9.933013916015625,
          -10.843868255615234,
          4.421534061431885,
          -4.626026153564453,
          8.007342338562012,
          7.376932621002197,
          7.811578273773193,
          7.943767070770264,
          5.104681968688965,
          -16.01751708984375,
          -1.2432864904403687,
          -5.605212688446045,
          -9.318861961364746,
          -2.4304957389831543,
          2.4743545055389404,
          -8.177719116210938,
          -0.9430890679359436,
          -13.643611907958984,
          10.209057807922363,
          -4.848639011383057,
          -13.53324031829834,
          -8.247584342956543,
          -10.201148986816406,
          -2.515611171722412,
          -7.38154935836792,
          -3.8253562450408936,
          -3.5718324184417725,
          -5.397821426391602,
          -9.0115327835083,
          12.738177299499512,
          11.802775382995605,
          14.2719144821167,
          4.346235275268555,
          2.9406957626342773,
          -3.8981590270996094,
          0.33658698201179504,
          4.481389045715332,
          -2.240178108215332,
          12.891812324523926,
          6.198581218719482,
          6.270172119140625,
          8.867203712463379,
          6.280366897583008,
          -3.451411008834839,
          16.058090209960938,
          7.828798770904541,
          -3.3150839805603027,
          -15.697834014892578,
          -3.060009241104126,
          11.797186851501465,
          -13.833006858825684,
          -2.0062177181243896,
          10.2127103805542,
          14.45969009399414,
          -2.184720516204834,
          -9.419163703918457,
          9.933019638061523,
          -8.23244571685791,
          -5.962070465087891,
          -3.4468111991882324,
          -5.2567667961120605,
          -0.0031400348525494337,
          6.959161281585693,
          8.543201446533203,
          -0.7135277986526489,
          3.040353536605835,
          -10.434686660766602,
          -5.959926605224609,
          0.5203686952590942,
          -1.8556243181228638,
          -8.52756404876709,
          4.376736164093018,
          3.8209590911865234,
          14.180791854858398,
          -0.19752585887908936,
          0.6002055406570435,
          -11.634071350097656,
          -6.130778789520264,
          5.7000322341918945,
          8.823748588562012,
          -0.7572355270385742,
          9.594991683959961,
          -15.691397666931152,
          17.457706451416016,
          9.826468467712402,
          -6.518057346343994,
          -18.696144104003906,
          -7.358412265777588,
          -2.934626579284668,
          -0.960662305355072,
          6.056684970855713,
          4.541316986083984,
          -9.857641220092773,
          -9.194653511047363,
          9.843234062194824,
          -18.76774024963379,
          6.394423961639404,
          10.31912899017334,
          -11.17147445678711,
          12.946158409118652,
          0.6040291786193848,
          6.781109809875488,
          0.3930158019065857,
          9.945270538330078,
          -5.02599573135376,
          11.400557518005371,
          -0.16387692093849182,
          -6.9034600257873535,
          -8.113492012023926,
          9.894253730773926,
          12.627754211425781,
          6.359801769256592,
          -8.889486312866211,
          14.143902778625488,
          6.649694919586182,
          -1.562062382698059,
          2.0357666015625,
          4.183279991149902,
          -8.262040138244629,
          -0.14994847774505615,
          4.739933490753174,
          -7.8801960945129395,
          14.837801933288574,
          0.5757116079330444,
          -1.064731478691101,
          5.419283866882324,
          -13.101096153259277,
          -0.287624329328537
         ],
         "xaxis": "x",
         "y": [
          -1.735499382019043,
          -2.035839319229126,
          10.05456829071045,
          -2.6166162490844727,
          7.453872203826904,
          9.647140502929688,
          -13.29986572265625,
          -5.393517971038818,
          -13.097368240356445,
          -7.062152862548828,
          10.462658882141113,
          0.6169552803039551,
          -13.457222938537598,
          -0.7998748421669006,
          -10.170544624328613,
          -0.3167074918746948,
          -4.271204471588135,
          14.470531463623047,
          5.37316370010376,
          -5.606403827667236,
          0.8328946828842163,
          6.177657127380371,
          11.1709566116333,
          -1.1917780637741089,
          4.3297600746154785,
          6.5703582763671875,
          6.872546195983887,
          -10.306177139282227,
          4.431516647338867,
          0.8190656304359436,
          -7.851751327514648,
          8.565189361572266,
          -13.479777336120605,
          17.435583114624023,
          3.3291985988616943,
          6.146295547485352,
          5.2010345458984375,
          5.121140480041504,
          3.190744638442993,
          -8.07516860961914,
          -9.226795196533203,
          6.886587619781494,
          -0.9302005767822266,
          10.777005195617676,
          -6.65938138961792,
          -1.8071684837341309,
          -8.865752220153809,
          -6.441773414611816,
          -2.523644208908081,
          -0.49537718296051025,
          3.4829299449920654,
          -8.898469924926758,
          12.760282516479492,
          0.7124654650688171,
          -5.0851826667785645,
          16.275680541992188,
          4.462832927703857,
          10.919073104858398,
          -3.3576600551605225,
          9.088674545288086,
          -5.249270439147949,
          9.125245094299316,
          -14.380105018615723,
          7.773024082183838,
          3.452268123626709,
          9.290486335754395,
          -5.2295002937316895,
          9.845709800720215,
          10.890573501586914,
          -17.367101669311523,
          10.309182167053223,
          5.906828880310059,
          3.1321542263031006,
          5.618927955627441,
          10.775141716003418,
          9.25153923034668,
          12.41928482055664,
          -14.415401458740234,
          -7.190971374511719,
          -1.4017659425735474,
          3.451380968093872,
          -2.78837251663208,
          -4.05771017074585,
          -1.2694278955459595,
          -1.4623582363128662,
          -7.222955226898193,
          -11.269460678100586,
          -13.115922927856445,
          -10.625749588012695,
          2.980731964111328,
          -3.3810219764709473,
          0.8834906220436096,
          10.886244773864746,
          -3.1717214584350586,
          12.79432487487793,
          6.089942932128906,
          9.319085121154785,
          -5.704092979431152,
          -1.7380684614181519,
          1.1992321014404297,
          -4.982048511505127,
          -12.530567169189453,
          6.552602767944336,
          -4.786040306091309,
          14.16589069366455,
          -1.5053298473358154,
          8.026663780212402,
          -9.587067604064941,
          0.8796677589416504,
          -3.9234282970428467,
          -8.896453857421875,
          -0.09176775068044662,
          -3.196627140045166,
          -10.22663688659668,
          -2.289140224456787,
          0.21968123316764832,
          2.298316478729248,
          -0.6283357739448547,
          2.1713128089904785,
          16.24892234802246,
          -2.521836996078491,
          -11.980279922485352,
          6.4185075759887695,
          12.508233070373535,
          16.265342712402344,
          -6.842505931854248,
          9.992283821105957,
          -8.859339714050293,
          2.4722273349761963,
          -5.367884635925293,
          -6.226777076721191,
          6.81355619430542,
          -2.3841850757598877,
          12.901742935180664,
          -5.385657787322998,
          -6.075355052947998,
          -4.79298734664917,
          8.094498634338379,
          -9.093730926513672,
          -4.0806379318237305,
          -5.501564025878906,
          14.33249568939209,
          4.355152606964111,
          -0.9908288717269897,
          -6.501262187957764,
          -10.168319702148438,
          -12.074411392211914,
          11.606121063232422,
          -8.048827171325684,
          3.6618072986602783,
          -7.301695346832275,
          9.331521987915039,
          4.956254959106445,
          -9.130423545837402,
          -8.841804504394531,
          1.927150845527649,
          1.7173755168914795,
          4.297240734100342,
          -4.694138526916504,
          -7.309043884277344,
          -7.4050421714782715,
          -0.04224333167076111,
          -1.487378478050232,
          -7.2756428718566895,
          5.90485143661499,
          12.123348236083984,
          -6.684452533721924,
          4.802975654602051,
          1.122871994972229,
          2.3800997734069824,
          16.113725662231445,
          -8.23803997039795,
          -0.3644495904445648,
          2.382622480392456,
          0.11973266303539276,
          3.449716091156006,
          -10.033538818359375,
          0.5683599710464478,
          -12.870856285095215,
          -12.557730674743652,
          -3.5712685585021973,
          -0.4850638508796692,
          5.160274505615234,
          -4.171636581420898,
          2.1117308139801025,
          -2.833265781402588,
          9.051175117492676,
          8.073237419128418,
          0.8820244669914246,
          1.922518014907837,
          14.444581985473633,
          14.080211639404297,
          -3.524890661239624,
          5.477260112762451,
          -1.8753865957260132,
          -3.906744956970215,
          5.887176036834717,
          3.528749942779541,
          1.4327473640441895,
          3.149334192276001,
          -13.522207260131836,
          8.406782150268555,
          -17.25025749206543,
          6.1762003898620605,
          -3.239650011062622,
          -1.5437341928482056,
          -12.257349014282227,
          14.74316692352295,
          2.3909802436828613,
          -1.8591634035110474,
          1.9425418376922607,
          13.132452011108398,
          -13.430431365966797,
          3.367159605026245,
          5.678489685058594,
          3.5865964889526367,
          -0.6772112250328064,
          2.391448974609375,
          1.837167739868164,
          -14.154253959655762,
          -2.0370142459869385,
          -9.892913818359375,
          16.06972885131836,
          14.28293514251709,
          2.422006607055664,
          -6.541380405426025,
          10.263221740722656,
          8.916792869567871,
          -15.477216720581055,
          -5.901548385620117,
          13.496709823608398,
          -3.1476361751556396,
          -10.454012870788574,
          3.4366636276245117,
          11.175705909729004,
          -3.8122310638427734,
          -5.937787055969238,
          -14.243012428283691,
          -7.4676713943481445,
          10.261004447937012,
          7.897060871124268,
          -6.529336929321289,
          -6.472415447235107,
          0.9832730293273926,
          5.051153182983398,
          11.059985160827637,
          -3.4496660232543945,
          -10.044825553894043,
          8.796557426452637,
          11.393166542053223
         ],
         "yaxis": "y"
        }
       ],
       "layout": {
        "legend": {
         "tracegroupgap": 0
        },
        "template": {
         "data": {
          "bar": [
           {
            "error_x": {
             "color": "#2a3f5f"
            },
            "error_y": {
             "color": "#2a3f5f"
            },
            "marker": {
             "line": {
              "color": "#E5ECF6",
              "width": 0.5
             },
             "pattern": {
              "fillmode": "overlay",
              "size": 10,
              "solidity": 0.2
             }
            },
            "type": "bar"
           }
          ],
          "barpolar": [
           {
            "marker": {
             "line": {
              "color": "#E5ECF6",
              "width": 0.5
             },
             "pattern": {
              "fillmode": "overlay",
              "size": 10,
              "solidity": 0.2
             }
            },
            "type": "barpolar"
           }
          ],
          "carpet": [
           {
            "aaxis": {
             "endlinecolor": "#2a3f5f",
             "gridcolor": "white",
             "linecolor": "white",
             "minorgridcolor": "white",
             "startlinecolor": "#2a3f5f"
            },
            "baxis": {
             "endlinecolor": "#2a3f5f",
             "gridcolor": "white",
             "linecolor": "white",
             "minorgridcolor": "white",
             "startlinecolor": "#2a3f5f"
            },
            "type": "carpet"
           }
          ],
          "choropleth": [
           {
            "colorbar": {
             "outlinewidth": 0,
             "ticks": ""
            },
            "type": "choropleth"
           }
          ],
          "contour": [
           {
            "colorbar": {
             "outlinewidth": 0,
             "ticks": ""
            },
            "colorscale": [
             [
              0,
              "#0d0887"
             ],
             [
              0.1111111111111111,
              "#46039f"
             ],
             [
              0.2222222222222222,
              "#7201a8"
             ],
             [
              0.3333333333333333,
              "#9c179e"
             ],
             [
              0.4444444444444444,
              "#bd3786"
             ],
             [
              0.5555555555555556,
              "#d8576b"
             ],
             [
              0.6666666666666666,
              "#ed7953"
             ],
             [
              0.7777777777777778,
              "#fb9f3a"
             ],
             [
              0.8888888888888888,
              "#fdca26"
             ],
             [
              1,
              "#f0f921"
             ]
            ],
            "type": "contour"
           }
          ],
          "contourcarpet": [
           {
            "colorbar": {
             "outlinewidth": 0,
             "ticks": ""
            },
            "type": "contourcarpet"
           }
          ],
          "heatmap": [
           {
            "colorbar": {
             "outlinewidth": 0,
             "ticks": ""
            },
            "colorscale": [
             [
              0,
              "#0d0887"
             ],
             [
              0.1111111111111111,
              "#46039f"
             ],
             [
              0.2222222222222222,
              "#7201a8"
             ],
             [
              0.3333333333333333,
              "#9c179e"
             ],
             [
              0.4444444444444444,
              "#bd3786"
             ],
             [
              0.5555555555555556,
              "#d8576b"
             ],
             [
              0.6666666666666666,
              "#ed7953"
             ],
             [
              0.7777777777777778,
              "#fb9f3a"
             ],
             [
              0.8888888888888888,
              "#fdca26"
             ],
             [
              1,
              "#f0f921"
             ]
            ],
            "type": "heatmap"
           }
          ],
          "heatmapgl": [
           {
            "colorbar": {
             "outlinewidth": 0,
             "ticks": ""
            },
            "colorscale": [
             [
              0,
              "#0d0887"
             ],
             [
              0.1111111111111111,
              "#46039f"
             ],
             [
              0.2222222222222222,
              "#7201a8"
             ],
             [
              0.3333333333333333,
              "#9c179e"
             ],
             [
              0.4444444444444444,
              "#bd3786"
             ],
             [
              0.5555555555555556,
              "#d8576b"
             ],
             [
              0.6666666666666666,
              "#ed7953"
             ],
             [
              0.7777777777777778,
              "#fb9f3a"
             ],
             [
              0.8888888888888888,
              "#fdca26"
             ],
             [
              1,
              "#f0f921"
             ]
            ],
            "type": "heatmapgl"
           }
          ],
          "histogram": [
           {
            "marker": {
             "pattern": {
              "fillmode": "overlay",
              "size": 10,
              "solidity": 0.2
             }
            },
            "type": "histogram"
           }
          ],
          "histogram2d": [
           {
            "colorbar": {
             "outlinewidth": 0,
             "ticks": ""
            },
            "colorscale": [
             [
              0,
              "#0d0887"
             ],
             [
              0.1111111111111111,
              "#46039f"
             ],
             [
              0.2222222222222222,
              "#7201a8"
             ],
             [
              0.3333333333333333,
              "#9c179e"
             ],
             [
              0.4444444444444444,
              "#bd3786"
             ],
             [
              0.5555555555555556,
              "#d8576b"
             ],
             [
              0.6666666666666666,
              "#ed7953"
             ],
             [
              0.7777777777777778,
              "#fb9f3a"
             ],
             [
              0.8888888888888888,
              "#fdca26"
             ],
             [
              1,
              "#f0f921"
             ]
            ],
            "type": "histogram2d"
           }
          ],
          "histogram2dcontour": [
           {
            "colorbar": {
             "outlinewidth": 0,
             "ticks": ""
            },
            "colorscale": [
             [
              0,
              "#0d0887"
             ],
             [
              0.1111111111111111,
              "#46039f"
             ],
             [
              0.2222222222222222,
              "#7201a8"
             ],
             [
              0.3333333333333333,
              "#9c179e"
             ],
             [
              0.4444444444444444,
              "#bd3786"
             ],
             [
              0.5555555555555556,
              "#d8576b"
             ],
             [
              0.6666666666666666,
              "#ed7953"
             ],
             [
              0.7777777777777778,
              "#fb9f3a"
             ],
             [
              0.8888888888888888,
              "#fdca26"
             ],
             [
              1,
              "#f0f921"
             ]
            ],
            "type": "histogram2dcontour"
           }
          ],
          "mesh3d": [
           {
            "colorbar": {
             "outlinewidth": 0,
             "ticks": ""
            },
            "type": "mesh3d"
           }
          ],
          "parcoords": [
           {
            "line": {
             "colorbar": {
              "outlinewidth": 0,
              "ticks": ""
             }
            },
            "type": "parcoords"
           }
          ],
          "pie": [
           {
            "automargin": true,
            "type": "pie"
           }
          ],
          "scatter": [
           {
            "fillpattern": {
             "fillmode": "overlay",
             "size": 10,
             "solidity": 0.2
            },
            "type": "scatter"
           }
          ],
          "scatter3d": [
           {
            "line": {
             "colorbar": {
              "outlinewidth": 0,
              "ticks": ""
             }
            },
            "marker": {
             "colorbar": {
              "outlinewidth": 0,
              "ticks": ""
             }
            },
            "type": "scatter3d"
           }
          ],
          "scattercarpet": [
           {
            "marker": {
             "colorbar": {
              "outlinewidth": 0,
              "ticks": ""
             }
            },
            "type": "scattercarpet"
           }
          ],
          "scattergeo": [
           {
            "marker": {
             "colorbar": {
              "outlinewidth": 0,
              "ticks": ""
             }
            },
            "type": "scattergeo"
           }
          ],
          "scattergl": [
           {
            "marker": {
             "colorbar": {
              "outlinewidth": 0,
              "ticks": ""
             }
            },
            "type": "scattergl"
           }
          ],
          "scattermapbox": [
           {
            "marker": {
             "colorbar": {
              "outlinewidth": 0,
              "ticks": ""
             }
            },
            "type": "scattermapbox"
           }
          ],
          "scatterpolar": [
           {
            "marker": {
             "colorbar": {
              "outlinewidth": 0,
              "ticks": ""
             }
            },
            "type": "scatterpolar"
           }
          ],
          "scatterpolargl": [
           {
            "marker": {
             "colorbar": {
              "outlinewidth": 0,
              "ticks": ""
             }
            },
            "type": "scatterpolargl"
           }
          ],
          "scatterternary": [
           {
            "marker": {
             "colorbar": {
              "outlinewidth": 0,
              "ticks": ""
             }
            },
            "type": "scatterternary"
           }
          ],
          "surface": [
           {
            "colorbar": {
             "outlinewidth": 0,
             "ticks": ""
            },
            "colorscale": [
             [
              0,
              "#0d0887"
             ],
             [
              0.1111111111111111,
              "#46039f"
             ],
             [
              0.2222222222222222,
              "#7201a8"
             ],
             [
              0.3333333333333333,
              "#9c179e"
             ],
             [
              0.4444444444444444,
              "#bd3786"
             ],
             [
              0.5555555555555556,
              "#d8576b"
             ],
             [
              0.6666666666666666,
              "#ed7953"
             ],
             [
              0.7777777777777778,
              "#fb9f3a"
             ],
             [
              0.8888888888888888,
              "#fdca26"
             ],
             [
              1,
              "#f0f921"
             ]
            ],
            "type": "surface"
           }
          ],
          "table": [
           {
            "cells": {
             "fill": {
              "color": "#EBF0F8"
             },
             "line": {
              "color": "white"
             }
            },
            "header": {
             "fill": {
              "color": "#C8D4E3"
             },
             "line": {
              "color": "white"
             }
            },
            "type": "table"
           }
          ]
         },
         "layout": {
          "annotationdefaults": {
           "arrowcolor": "#2a3f5f",
           "arrowhead": 0,
           "arrowwidth": 1
          },
          "autotypenumbers": "strict",
          "coloraxis": {
           "colorbar": {
            "outlinewidth": 0,
            "ticks": ""
           }
          },
          "colorscale": {
           "diverging": [
            [
             0,
             "#8e0152"
            ],
            [
             0.1,
             "#c51b7d"
            ],
            [
             0.2,
             "#de77ae"
            ],
            [
             0.3,
             "#f1b6da"
            ],
            [
             0.4,
             "#fde0ef"
            ],
            [
             0.5,
             "#f7f7f7"
            ],
            [
             0.6,
             "#e6f5d0"
            ],
            [
             0.7,
             "#b8e186"
            ],
            [
             0.8,
             "#7fbc41"
            ],
            [
             0.9,
             "#4d9221"
            ],
            [
             1,
             "#276419"
            ]
           ],
           "sequential": [
            [
             0,
             "#0d0887"
            ],
            [
             0.1111111111111111,
             "#46039f"
            ],
            [
             0.2222222222222222,
             "#7201a8"
            ],
            [
             0.3333333333333333,
             "#9c179e"
            ],
            [
             0.4444444444444444,
             "#bd3786"
            ],
            [
             0.5555555555555556,
             "#d8576b"
            ],
            [
             0.6666666666666666,
             "#ed7953"
            ],
            [
             0.7777777777777778,
             "#fb9f3a"
            ],
            [
             0.8888888888888888,
             "#fdca26"
            ],
            [
             1,
             "#f0f921"
            ]
           ],
           "sequentialminus": [
            [
             0,
             "#0d0887"
            ],
            [
             0.1111111111111111,
             "#46039f"
            ],
            [
             0.2222222222222222,
             "#7201a8"
            ],
            [
             0.3333333333333333,
             "#9c179e"
            ],
            [
             0.4444444444444444,
             "#bd3786"
            ],
            [
             0.5555555555555556,
             "#d8576b"
            ],
            [
             0.6666666666666666,
             "#ed7953"
            ],
            [
             0.7777777777777778,
             "#fb9f3a"
            ],
            [
             0.8888888888888888,
             "#fdca26"
            ],
            [
             1,
             "#f0f921"
            ]
           ]
          },
          "colorway": [
           "#636efa",
           "#EF553B",
           "#00cc96",
           "#ab63fa",
           "#FFA15A",
           "#19d3f3",
           "#FF6692",
           "#B6E880",
           "#FF97FF",
           "#FECB52"
          ],
          "font": {
           "color": "#2a3f5f"
          },
          "geo": {
           "bgcolor": "white",
           "lakecolor": "white",
           "landcolor": "#E5ECF6",
           "showlakes": true,
           "showland": true,
           "subunitcolor": "white"
          },
          "hoverlabel": {
           "align": "left"
          },
          "hovermode": "closest",
          "mapbox": {
           "style": "light"
          },
          "paper_bgcolor": "white",
          "plot_bgcolor": "#E5ECF6",
          "polar": {
           "angularaxis": {
            "gridcolor": "white",
            "linecolor": "white",
            "ticks": ""
           },
           "bgcolor": "#E5ECF6",
           "radialaxis": {
            "gridcolor": "white",
            "linecolor": "white",
            "ticks": ""
           }
          },
          "scene": {
           "xaxis": {
            "backgroundcolor": "#E5ECF6",
            "gridcolor": "white",
            "gridwidth": 2,
            "linecolor": "white",
            "showbackground": true,
            "ticks": "",
            "zerolinecolor": "white"
           },
           "yaxis": {
            "backgroundcolor": "#E5ECF6",
            "gridcolor": "white",
            "gridwidth": 2,
            "linecolor": "white",
            "showbackground": true,
            "ticks": "",
            "zerolinecolor": "white"
           },
           "zaxis": {
            "backgroundcolor": "#E5ECF6",
            "gridcolor": "white",
            "gridwidth": 2,
            "linecolor": "white",
            "showbackground": true,
            "ticks": "",
            "zerolinecolor": "white"
           }
          },
          "shapedefaults": {
           "line": {
            "color": "#2a3f5f"
           }
          },
          "ternary": {
           "aaxis": {
            "gridcolor": "white",
            "linecolor": "white",
            "ticks": ""
           },
           "baxis": {
            "gridcolor": "white",
            "linecolor": "white",
            "ticks": ""
           },
           "bgcolor": "#E5ECF6",
           "caxis": {
            "gridcolor": "white",
            "linecolor": "white",
            "ticks": ""
           }
          },
          "title": {
           "x": 0.05
          },
          "xaxis": {
           "automargin": true,
           "gridcolor": "white",
           "linecolor": "white",
           "ticks": "",
           "title": {
            "standoff": 15
           },
           "zerolinecolor": "white",
           "zerolinewidth": 2
          },
          "yaxis": {
           "automargin": true,
           "gridcolor": "white",
           "linecolor": "white",
           "ticks": "",
           "title": {
            "standoff": 15
           },
           "zerolinecolor": "white",
           "zerolinewidth": 2
          }
         }
        },
        "title": {
         "text": "Movie Similarity based on Storyline Embeddings"
        },
        "xaxis": {
         "anchor": "y",
         "domain": [
          0,
          1
         ],
         "title": {
          "text": "x"
         }
        },
        "yaxis": {
         "anchor": "x",
         "domain": [
          0,
          1
         ],
         "title": {
          "text": "y"
         }
        }
       }
      }
     },
     "metadata": {},
     "output_type": "display_data"
    }
   ],
   "source": [
    "df['x'] = embeddings_2d[:, 0]\n",
    "df['y'] = embeddings_2d[:, 1]\n",
    "\n",
    "fig = px.scatter(\n",
    "    df, x='x', y='y', text='title', hover_data={'title': True, 'rank': True},\n",
    "    title='Movie Similarity based on Storyline Embeddings')\n",
    "fig.show()"
   ]
  },
  {
   "cell_type": "code",
   "execution_count": null,
   "metadata": {},
   "outputs": [],
   "source": []
  }
 ],
 "metadata": {
  "kernelspec": {
   "display_name": ".venv",
   "language": "python",
   "name": "python3"
  },
  "language_info": {
   "codemirror_mode": {
    "name": "ipython",
    "version": 3
   },
   "file_extension": ".py",
   "mimetype": "text/x-python",
   "name": "python",
   "nbconvert_exporter": "python",
   "pygments_lexer": "ipython3",
   "version": "3.12.3"
  }
 },
 "nbformat": 4,
 "nbformat_minor": 2
}
